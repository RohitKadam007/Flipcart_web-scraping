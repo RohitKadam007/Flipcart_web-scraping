{
 "cells": [
  {
   "cell_type": "markdown",
   "id": "7002150f",
   "metadata": {},
   "source": [
    "# importing the required libraries"
   ]
  },
  {
   "cell_type": "code",
   "execution_count": 1,
   "id": "ecc26ff7",
   "metadata": {},
   "outputs": [],
   "source": [
    "import pandas as pd\n",
    "from bs4 import BeautifulSoup\n",
    "from requests import get"
   ]
  },
  {
   "cell_type": "markdown",
   "id": "9803e6d2",
   "metadata": {},
   "source": [
    "url = 'https://www.flipkart.com/mobiles/mi~brand/pr?sid=tyy%2C4io&ctx=eyJjYXJkQ29udGV4dCI6eyJhdHRyaWJ1dGVzIjp7InRpdGxlIjp7Im11bHRpVmFsdWVkQXR0cmlidXRlIjp7ImtleSI6InRpdGxlIiwiaW5mZXJlbmNlVHlwZSI6IlRJVExFIiwidmFsdWVzIjpbIlNob3AgTm93Il0sInZhbHVlVHlwZSI6Ik1VTFRJX1ZBTFVFRCJ9fX19fQ%3D%3D&otracker=clp_metro_expandable_6_3.metroExpandable.METRO_EXPANDABLE_Shop%2BNow_mobile-phones-store_OUJ0NDXWZCCJ_wp2&fm=neo%2Fmerchandising&iid=M_3d50cd3f-e326-4a40-a579-2aa6c5e7521b_3.OUJ0NDXWZCCJ&ppt=clp&ppn=mobile-phones-store&ssid=dfswknnwow0000001654070805319'\n",
    " using this url we accsess only one page"
   ]
  },
  {
   "cell_type": "markdown",
   "id": "59dd5deb",
   "metadata": {},
   "source": [
    "# declaring the list of empty variables, So that we can append the data overall"
   ]
  },
  {
   "cell_type": "code",
   "execution_count": 2,
   "id": "23ce449d",
   "metadata": {},
   "outputs": [],
   "source": [
    "mobile_name = []\n",
    "Star_Rating = []\n",
    "RAM_ROM = []\n",
    "Price = []\n",
    "Display_size = []\n",
    "Camera = []\n",
    "Battary = []\n",
    "Processor = []\n",
    "Warranty =[]"
   ]
  },
  {
   "cell_type": "markdown",
   "id": "1b0cec88",
   "metadata": {},
   "source": [
    "# the find the data from multiple webpages"
   ]
  },
  {
   "cell_type": "code",
   "execution_count": 3,
   "id": "5c9698c9",
   "metadata": {},
   "outputs": [],
   "source": [
    "\n",
    "for i in range(1,4):     #for getting info of 3 pages\n",
    "    i =get(\"https://www.flipkart.com/mobiles/mi~brand/pr?sid=tyy%2C4io&ctx=eyJjYXJkQ29udGV4dCI6eyJhdHRyaWJ1dGVzIjp7InRpdGxlIjp7Im11bHRpVmFsdWVkQXR0cmlidXRlIjp7ImtleSI6InRpdGxlIiwiaW5mZXJlbmNlVHlwZSI6IlRJVExFIiwidmFsdWVzIjpbIlNob3AgTm93Il0sInZhbHVlVHlwZSI6Ik1VTFRJX1ZBTFVFRCJ9fX19fQ%3D%3D&otracker=clp_metro_expandable_6_3.metroExpandable.METRO_EXPANDABLE_Shop%2BNow_mobile-phones-store_OUJ0NDXWZCCJ_wp2&fm=neo%2Fmerchandising&iid=M_3d50cd3f-e326-4a40-a579-2aa6c5e7521b_3.OUJ0NDXWZCCJ&ppt=clp&ppn=mobile-phones-store&ssid=dfswknnwow0000001654070805319&page=\"+str(i))\n",
    "    soup = BeautifulSoup(i.text, 'html.parser')\n",
    "    modile_data = soup.find_all(\"div\",attrs={\"class\":\"_2kHMtA\"})\n",
    "    for data in modile_data:\n",
    "        name = data.find(\"div\",class_= '_4rR01T').text           # Scraping of mobile name\n",
    "        mobile_name.append(name)\n",
    "\n",
    "        star= data.find(\"div\",class_= '_3LWZlK').text\n",
    "        Star_Rating.append(star)\n",
    "        \n",
    "        specification = soup.find(\"div\",class_= \"fMghEO\")         # Scraping of all mobile specification\n",
    "        for each in specification:\n",
    "            spec = each.find_all('li',class_= 'rgWa7D')\n",
    "            RAM_ROM.append(spec[0].text)\n",
    "            Display_size.append(spec[1].text[0:5])\n",
    "            Camera.append(spec[2].text)\n",
    "            Battary.append(spec[3].text[0:4])\n",
    "            Processor.append(spec[4].text)\n",
    "            Warranty.append(spec[5].text[0:6])  \n",
    "            \n",
    "        price = data.find('div',class_= '_30jeq3 _1_WHN1').text      # Price of mobile\n",
    "        Price.append(price)"
   ]
  },
  {
   "cell_type": "markdown",
   "id": "a9285138",
   "metadata": {},
   "source": [
    "# Convert All veriables into a dataframe"
   ]
  },
  {
   "cell_type": "code",
   "execution_count": 4,
   "id": "d9e2dfcd",
   "metadata": {},
   "outputs": [],
   "source": [
    "mobile_DF = pd.DataFrame({\"Mobile_Name\":mobile_name,\"Star_Ratings\":Star_Rating,\"Mobile_RAM_ROM\":RAM_ROM,\"Mobile_Display_cm\":Display_size,\"Mobile_Camera\":Camera,\"Mobile_Battary_mAH\":Battary,\"Mobile_Processor\":Processor,\"Mobile_Warranty\":Warranty,\"PRICE\":Price})"
   ]
  },
  {
   "cell_type": "code",
   "execution_count": 5,
   "id": "e3b6e6b8",
   "metadata": {},
   "outputs": [
    {
     "data": {
      "text/html": [
       "<div>\n",
       "<style scoped>\n",
       "    .dataframe tbody tr th:only-of-type {\n",
       "        vertical-align: middle;\n",
       "    }\n",
       "\n",
       "    .dataframe tbody tr th {\n",
       "        vertical-align: top;\n",
       "    }\n",
       "\n",
       "    .dataframe thead th {\n",
       "        text-align: right;\n",
       "    }\n",
       "</style>\n",
       "<table border=\"1\" class=\"dataframe\">\n",
       "  <thead>\n",
       "    <tr style=\"text-align: right;\">\n",
       "      <th></th>\n",
       "      <th>Mobile_Name</th>\n",
       "      <th>Star_Ratings</th>\n",
       "      <th>Mobile_RAM_ROM</th>\n",
       "      <th>Mobile_Display_cm</th>\n",
       "      <th>Mobile_Camera</th>\n",
       "      <th>Mobile_Battary_mAH</th>\n",
       "      <th>Mobile_Processor</th>\n",
       "      <th>Mobile_Warranty</th>\n",
       "      <th>PRICE</th>\n",
       "    </tr>\n",
       "  </thead>\n",
       "  <tbody>\n",
       "    <tr>\n",
       "      <th>0</th>\n",
       "      <td>Redmi 9A Sport (Carbon Black, 32 GB)</td>\n",
       "      <td>4.2</td>\n",
       "      <td>2 GB RAM | 32 GB ROM | Expandable Upto 512 GB</td>\n",
       "      <td>16.59</td>\n",
       "      <td>13MP Rear Camera | 5MP Front Camera</td>\n",
       "      <td>5000</td>\n",
       "      <td>MediaTek Helio G25 Processor</td>\n",
       "      <td>1 year</td>\n",
       "      <td>₹6,892</td>\n",
       "    </tr>\n",
       "    <tr>\n",
       "      <th>1</th>\n",
       "      <td>Redmi 9A Sport (Coral Green, 32 GB)</td>\n",
       "      <td>4.2</td>\n",
       "      <td>2 GB RAM | 32 GB ROM | Expandable Upto 512 GB</td>\n",
       "      <td>16.59</td>\n",
       "      <td>13MP Rear Camera | 5MP Front Camera</td>\n",
       "      <td>5000</td>\n",
       "      <td>MediaTek Helio G25 Processor</td>\n",
       "      <td>1 year</td>\n",
       "      <td>₹6,848</td>\n",
       "    </tr>\n",
       "    <tr>\n",
       "      <th>2</th>\n",
       "      <td>Redmi 9A Sport (Carbon Black, 32 GB)</td>\n",
       "      <td>4.2</td>\n",
       "      <td>2 GB RAM | 32 GB ROM | Expandable Upto 512 GB</td>\n",
       "      <td>16.59</td>\n",
       "      <td>13MP Rear Camera | 5MP Front Camera</td>\n",
       "      <td>5000</td>\n",
       "      <td>MediaTek Helio G25 Processor</td>\n",
       "      <td>1 year</td>\n",
       "      <td>₹7,963</td>\n",
       "    </tr>\n",
       "    <tr>\n",
       "      <th>3</th>\n",
       "      <td>Redmi 9A Sport (Metallic Blue, 32 GB)</td>\n",
       "      <td>4.2</td>\n",
       "      <td>2 GB RAM | 32 GB ROM | Expandable Upto 512 GB</td>\n",
       "      <td>16.59</td>\n",
       "      <td>13MP Rear Camera | 5MP Front Camera</td>\n",
       "      <td>5000</td>\n",
       "      <td>MediaTek Helio G25 Processor</td>\n",
       "      <td>1 year</td>\n",
       "      <td>₹6,943</td>\n",
       "    </tr>\n",
       "    <tr>\n",
       "      <th>4</th>\n",
       "      <td>Redmi 9A Sport (Metallic Blue, 32 GB)</td>\n",
       "      <td>4.2</td>\n",
       "      <td>2 GB RAM | 32 GB ROM | Expandable Upto 512 GB</td>\n",
       "      <td>16.59</td>\n",
       "      <td>13MP Rear Camera | 5MP Front Camera</td>\n",
       "      <td>5000</td>\n",
       "      <td>MediaTek Helio G25 Processor</td>\n",
       "      <td>1 year</td>\n",
       "      <td>₹7,820</td>\n",
       "    </tr>\n",
       "  </tbody>\n",
       "</table>\n",
       "</div>"
      ],
      "text/plain": [
       "                             Mobile_Name Star_Ratings  \\\n",
       "0   Redmi 9A Sport (Carbon Black, 32 GB)          4.2   \n",
       "1    Redmi 9A Sport (Coral Green, 32 GB)          4.2   \n",
       "2   Redmi 9A Sport (Carbon Black, 32 GB)          4.2   \n",
       "3  Redmi 9A Sport (Metallic Blue, 32 GB)          4.2   \n",
       "4  Redmi 9A Sport (Metallic Blue, 32 GB)          4.2   \n",
       "\n",
       "                                  Mobile_RAM_ROM Mobile_Display_cm  \\\n",
       "0  2 GB RAM | 32 GB ROM | Expandable Upto 512 GB             16.59   \n",
       "1  2 GB RAM | 32 GB ROM | Expandable Upto 512 GB             16.59   \n",
       "2  2 GB RAM | 32 GB ROM | Expandable Upto 512 GB             16.59   \n",
       "3  2 GB RAM | 32 GB ROM | Expandable Upto 512 GB             16.59   \n",
       "4  2 GB RAM | 32 GB ROM | Expandable Upto 512 GB             16.59   \n",
       "\n",
       "                         Mobile_Camera Mobile_Battary_mAH  \\\n",
       "0  13MP Rear Camera | 5MP Front Camera               5000   \n",
       "1  13MP Rear Camera | 5MP Front Camera               5000   \n",
       "2  13MP Rear Camera | 5MP Front Camera               5000   \n",
       "3  13MP Rear Camera | 5MP Front Camera               5000   \n",
       "4  13MP Rear Camera | 5MP Front Camera               5000   \n",
       "\n",
       "               Mobile_Processor Mobile_Warranty   PRICE  \n",
       "0  MediaTek Helio G25 Processor          1 year  ₹6,892  \n",
       "1  MediaTek Helio G25 Processor          1 year  ₹6,848  \n",
       "2  MediaTek Helio G25 Processor          1 year  ₹7,963  \n",
       "3  MediaTek Helio G25 Processor          1 year  ₹6,943  \n",
       "4  MediaTek Helio G25 Processor          1 year  ₹7,820  "
      ]
     },
     "execution_count": 5,
     "metadata": {},
     "output_type": "execute_result"
    }
   ],
   "source": [
    "mobile_DF.head()"
   ]
  },
  {
   "cell_type": "markdown",
   "id": "7a996dbc",
   "metadata": {},
   "source": [
    "# Dataframe into Excel"
   ]
  },
  {
   "cell_type": "code",
   "execution_count": 6,
   "id": "79ac7af8",
   "metadata": {},
   "outputs": [],
   "source": [
    "mobile_DF.to_excel(\"C:Desktop/mobile_data.xlsx\")"
   ]
  },
  {
   "cell_type": "code",
   "execution_count": null,
   "id": "4daa2132",
   "metadata": {},
   "outputs": [],
   "source": []
  }
 ],
 "metadata": {
  "kernelspec": {
   "display_name": "Python 3 (ipykernel)",
   "language": "python",
   "name": "python3"
  },
  "language_info": {
   "codemirror_mode": {
    "name": "ipython",
    "version": 3
   },
   "file_extension": ".py",
   "mimetype": "text/x-python",
   "name": "python",
   "nbconvert_exporter": "python",
   "pygments_lexer": "ipython3",
   "version": "3.8.12"
  }
 },
 "nbformat": 4,
 "nbformat_minor": 5
}
